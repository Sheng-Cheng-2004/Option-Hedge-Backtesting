{
 "cells": [
  {
   "cell_type": "code",
   "execution_count": 12,
   "metadata": {},
   "outputs": [],
   "source": [
    "import numpy as np\n",
    "import matplotlib.pyplot as plt\n",
    "import pandas as pd\n",
    "import OP\n",
    "from scipy.optimize import fsolve"
   ]
  },
  {
   "cell_type": "markdown",
   "metadata": {},
   "source": [
    "## 1. 求解区间"
   ]
  },
  {
   "cell_type": "code",
   "execution_count": 13,
   "metadata": {},
   "outputs": [],
   "source": [
    "def solve_interval(S0, r, sigma, T, steps, I, n, m, type = 'accumulator'):\n",
    "    ##\n",
    "    MC = OP.MonteCarlo()\n",
    "    MC.simulations(S0=S0, r=r, sigma=sigma, T=T, steps=steps, I=I)\n",
    "    def func(interval):\n",
    "        if type == 'accumulator':\n",
    "            KO = S0 + interval/2\n",
    "            S = S0 - interval/2\n",
    "            y = MC.accumulator(KO=KO, r=r, S=S, I=I, n=n, m=m)\n",
    "        else:\n",
    "            KO = S0 - interval/2\n",
    "            S = S0 + interval/2\n",
    "            y = MC.decumulator(KO=KO, r=r, S=S, I=I, n=n, m=m)\n",
    "        return y\n",
    "    interval = fsolve(func, [500])\n",
    "    return interval"
   ]
  },
  {
   "cell_type": "code",
   "execution_count": 16,
   "metadata": {},
   "outputs": [
    {
     "data": {
      "text/plain": [
       "array([282.1879482])"
      ]
     },
     "execution_count": 16,
     "metadata": {},
     "output_type": "execute_result"
    }
   ],
   "source": [
    "S0 = 5658\n",
    "S = 5742\n",
    "# KO_1 = 5558\n",
    "KO_2 = 5558\n",
    "r = 0.05\n",
    "T = 30/252\n",
    "sigma = 0.115\n",
    "steps = 30\n",
    "n = 1/steps\n",
    "m = 3\n",
    "I = 10000\n",
    "\n",
    "interval = solve_interval(S0, r, sigma, T, steps, I, n, m, type = 'decumulator')\n",
    "interval"
   ]
  },
  {
   "cell_type": "markdown",
   "metadata": {},
   "source": [
    "### 验证"
   ]
  },
  {
   "cell_type": "code",
   "execution_count": 17,
   "metadata": {},
   "outputs": [
    {
     "name": "stdout",
     "output_type": "stream",
     "text": [
      "4.431642788165302\n"
     ]
    }
   ],
   "source": [
    "S = S0 + interval/2\n",
    "KO_2 = S0 - interval/2\n",
    "\n",
    "MC = OP.MonteCarlo()\n",
    "MC.simulations(S0=S0, r=r, sigma=sigma, T=T, steps=steps, I=I)\n",
    "\n",
    "decumulator_price = MC.decumulator(S=S, KO=KO_2, r=r, I=I, n=n, m=m)\n",
    "print(decumulator_price)\n"
   ]
  },
  {
   "cell_type": "markdown",
   "metadata": {},
   "source": [
    "## 2. 计算波动率"
   ]
  },
  {
   "cell_type": "code",
   "execution_count": 18,
   "metadata": {},
   "outputs": [],
   "source": [
    "def find_volatility(data, type='annually'):\n",
    "    daily_volatility = np.std(data, ddof=1)\n",
    "    annualized_volatility = daily_volatility * np.sqrt(252)\n",
    "    if type =='daily':\n",
    "        return daily_volatility\n",
    "    elif type =='annually':\n",
    "        return annualized_volatility\n",
    "    else:\n",
    "        raise ValueError('type not daily or annually')"
   ]
  },
  {
   "cell_type": "markdown",
   "metadata": {},
   "source": [
    "## 3. 计算delta"
   ]
  },
  {
   "cell_type": "code",
   "execution_count": 35,
   "metadata": {},
   "outputs": [],
   "source": [
    "def find_delta(S0, r, T, sigma, I, S, KO, n, m):\n",
    "    S0_1 = S0+0.005*S0\n",
    "    S0_2 = S0-0.005*S0\n",
    "    MC_1 = OP.MonteCarlo()\n",
    "    MC_2 = OP.MonteCarlo()\n",
    "    steps = int(T*252)\n",
    "\n",
    "    MC_1.simulations(S0_1,r,T,sigma,I,steps)\n",
    "    MC_2.simulations(S0_2,r,T,sigma,I,steps)\n",
    "\n",
    "    pv_1 = MC_1.accumulator(S=S, KO=KO, r=r, I=I, n=n, m=m)\n",
    "    pv_2 = MC_1.accumulator(S=S, KO=KO, r=r, I=I, n=n, m=m)\n",
    "\n",
    "    delta = (pv_1-pv_2)/(0.01*S0*n*steps) #Q：对于累计/沽期权，标的资产应是什么？\n",
    "    return delta"
   ]
  },
  {
   "cell_type": "markdown",
   "metadata": {},
   "source": [
    "## 4. 回测模拟"
   ]
  },
  {
   "cell_type": "code",
   "execution_count": 44,
   "metadata": {},
   "outputs": [],
   "source": [
    "def back_testing(path, r, sigma, I, n, m):\n",
    "    #TO DO\n",
    "    S0 = path[0]\n",
    "    T = (len(path)-1)/252\n",
    "    steps = int(T*252)\n",
    "    interval = solve_interval(S0, r, sigma, T, steps, I, n, m, type = 'accumulator')\n",
    "    S = S0 - interval/2\n",
    "    KO = S0 + interval/2\n",
    "\n",
    "    delta = find_delta(S0, r, T, sigma, I, S, KO, n, m)\n",
    "    hold = delta*n*steps #对冲持有的点数，如持有100吨石油\n",
    "\n",
    "    fee = 0\n",
    "    contract = 0\n",
    "    hedge = 0\n",
    "    for i in range(1, len(path)-1):\n",
    "        T_ = (len(path)-i-1)/252\n",
    "        S0_ = path[i]\n",
    "        steps_ = T_*252\n",
    "        #计算每天期权合约赔付\n",
    "        if S0_ >= KO:\n",
    "            contract += 0 \n",
    "        elif S0_ < KO and S0_ > S:\n",
    "            contract += (S0_-S)*n\n",
    "        else:\n",
    "            contract += (S0_-S)*m*n\n",
    "        #计算每天对冲端收益\n",
    "        hedge += hold*(S0_-path[i-1])\n",
    "\n",
    "        #计算新的delta并得出新的对冲端持仓\n",
    "        delta = find_delta(S0_, r, T_, sigma, I, S, KO, n, m)\n",
    "        hold = delta*n*steps_\n",
    "\n",
    "    #最后一天不需要计算delta和hold，计算收益即可\n",
    "    if path[-1] >= KO:\n",
    "        contract += 0 \n",
    "    elif path[-1] < KO and S0_ > S:\n",
    "        contract += (path[-1]-S)*n\n",
    "    else:\n",
    "        contract += (path[-1]-S)*m*n\n",
    "    \n",
    "    hedge += hold*(path[-1]-path[-2])\n",
    "\n",
    "\n",
    "    payoff = fee-contract+hedge\n",
    "    return payoff"
   ]
  },
  {
   "cell_type": "markdown",
   "metadata": {},
   "source": [
    "## 5. 多时期回测大循环"
   ]
  },
  {
   "cell_type": "markdown",
   "metadata": {},
   "source": [
    "读取数据"
   ]
  },
  {
   "cell_type": "code",
   "execution_count": 45,
   "metadata": {},
   "outputs": [
    {
     "name": "stdout",
     "output_type": "stream",
     "text": [
      "90\n"
     ]
    }
   ],
   "source": [
    "data = pd.read_excel('gold_price.xlsx')\n",
    "price_path = data['gold_price']\n",
    "price_path = price_path.to_numpy()\n",
    "price_path = price_path[-90:]\n",
    "print(len(price_path))"
   ]
  },
  {
   "cell_type": "code",
   "execution_count": 46,
   "metadata": {},
   "outputs": [],
   "source": [
    "payoff = np.zeros(int((len(price_path)-30)/30))\n",
    "\n",
    "r = 0.03\n",
    "I = 10000\n",
    "n = 10\n",
    "m = 3\n",
    "index = 0\n",
    "for i in range(30, len(price_path)-30, 30):\n",
    "    sigma = find_volatility(price_path[i-30: i-1], type='annually')\n",
    "    payoff[index] =  back_testing(price_path[i:i+30], r, sigma, I, n, m)\n",
    "    index += 1\n",
    "\n",
    "payoff[index] = back_testing(price_path[-30:], r, sigma, I, n, m)\n",
    "\n",
    "\n",
    "#计算平均收益率\n",
    "avg_payoff = np.mean(payoff)\n",
    "\n",
    "#计算胜率\n",
    "win = 0\n",
    "lose = 0\n",
    "for i in payoff:\n",
    "    if i >= 0:\n",
    "        win += 1\n",
    "    else:\n",
    "        lose += 1\n",
    "winning_rate = win/len(payoff)\n",
    "\n",
    "#计算最大亏损\n",
    "max_lose = payoff.min()\n",
    "\n",
    "#计算最大收益\n",
    "\n",
    "max_win = payoff.max()\n",
    "\n",
    "print(f'平均收益率：{avg_payoff}')\n",
    "print(f'胜率：{winning_rate}')\n",
    "print(f'最大亏损：{max_lose}')\n",
    "print(f'最大收益：{max_win}')\n"
   ]
  },
  {
   "cell_type": "code",
   "execution_count": null,
   "metadata": {},
   "outputs": [],
   "source": []
  }
 ],
 "metadata": {
  "kernelspec": {
   "display_name": "base",
   "language": "python",
   "name": "python3"
  },
  "language_info": {
   "codemirror_mode": {
    "name": "ipython",
    "version": 3
   },
   "file_extension": ".py",
   "mimetype": "text/x-python",
   "name": "python",
   "nbconvert_exporter": "python",
   "pygments_lexer": "ipython3",
   "version": "3.9.13"
  }
 },
 "nbformat": 4,
 "nbformat_minor": 2
}
